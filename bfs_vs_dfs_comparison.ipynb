{
 "cells": [
  {
   "cell_type": "markdown",
   "metadata": {},
   "source": [
    "# BFS vs DFS Comparison\n",
    "\n",
    "This notebook compares Breadth-First Search (BFS) and Depth-First Search (DFS)\n",
    "on the same graph. Both traversal orders are printed and visualized."
   ]
  },
  {
   "cell_type": "code",
   "execution_count": null,
   "metadata": {},
   "outputs": [],
   "source": [
    "import networkx as nx\n",
    "import matplotlib.pyplot as plt\n",
    "from collections import deque\n",
    "\n",
    "# Define graph\n",
    "graph = {\n",
    "    'A': ['B', 'C'],\n",
    "    'B': ['D', 'E'],\n",
    "    'C': ['F'],\n",
    "    'D': [],\n",
    "    'E': ['F'],\n",
    "    'F': []\n",
    "}\n",
    "\n",
    "def bfs(start):\n",
    "    visited = set()\n",
    "    queue = deque([start])\n",
    "    order = []\n",
    "    while queue:\n",
    "        node = queue.popleft()\n",
    "        if node not in visited:\n",
    "            visited.add(node)\n",
    "            order.append(node)\n",
    "            for neighbor in graph[node]:\n",
    "                if neighbor not in visited:\n",
    "                    queue.append(neighbor)\n",
    "    return order\n",
    "\n",
    "def dfs(node, visited=None, order=None):\n",
    "    if visited is None:\n",
    "        visited = set()\n",
    "    if order is None:\n",
    "        order = []\n",
    "    if node not in visited:\n",
    "        visited.add(node)\n",
    "        order.append(node)\n",
    "        for neighbor in graph[node]:\n",
    "            dfs(neighbor, visited, order)\n",
    "    return order\n",
    "\n",
    "# Run BFS and DFS\n",
    "bfs_result = bfs('A')\n",
    "dfs_result = dfs('A')\n",
    "\n",
    "print(\"BFS Order:\", bfs_result)\n",
    "print(\"DFS Order:\", dfs_result)"
   ]
  },
  {
   "cell_type": "code",
   "execution_count": null,
   "metadata": {},
   "outputs": [],
   "source": [
    "# Visualization of graph\n",
    "G = nx.DiGraph()\n",
    "for node in graph:\n",
    "    for neighbor in graph[node]:\n",
    "        G.add_edge(node, neighbor)\n",
    "\n",
    "pos = nx.spring_layout(G)\n",
    "\n",
    "plt.figure(figsize=(12,5))\n",
    "\n",
    "# Plot for BFS\n",
    "plt.subplot(1,2,1)\n",
    "nx.draw(G, pos, with_labels=True, node_color='skyblue', node_size=1800, font_size=12, arrows=True)\n",
    "plt.title(\"Breadth-First Search Order: \" + \" → \".join(bfs_result))\n",
    "\n",
    "# Plot for DFS\n",
    "plt.subplot(1,2,2)\n",
    "nx.draw(G, pos, with_labels=True, node_color='lightgreen', node_size=1800, font_size=12, arrows=True)\n",
    "plt.title(\"Depth-First Search Order: \" + \" → \".join(dfs_result))\n",
    "\n",
    "plt.tight_layout()\n",
    "plt.show()"
   ]
  }
 ],
 "metadata": {
  "kernelspec": {
   "display_name": "Python 3",
   "language": "python",
   "name": "python3"
  },
  "language_info": {
   "name": "python"
  }
 },
 "nbformat": 4,
 "nbformat_minor": 5
}
