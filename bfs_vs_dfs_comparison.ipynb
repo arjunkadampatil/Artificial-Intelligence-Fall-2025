{
 "cells": [
  {
   "cell_type": "markdown",
   "metadata": {},
   "source": [
    "# BFS vs DFS Traversal\n",
    "\n",
    "This notebook compares Breadth-First Search (BFS) and Depth-First Search (DFS).\n",
    "Both algorithms are applied to the same graph so we can observe the difference in their traversal order."
   ]
  },
  {
   "cell_type": "code",
   "execution_count": null,
   "metadata": {},
   "outputs": [],
   "source": [
    "# BFS implementation using queue\n",
    "from collections import deque\n",
    "\n",
    "def run_bfs(graph, start):\n",
    "    visited = set()\n",
    "    sequence = []\n",
    "    q = deque([start])\n",
    "    \n",
    "    while q:\n",
    "        node = q.popleft()\n",
    "        if node not in visited:\n",
    "            visited.add(node)\n",
    "            sequence.append(node)\n",
    "            for neighbor in graph[node]:\n",
    "                if neighbor not in visited:\n",
    "                    q.append(neighbor)\n",
    "    return sequence"
   ]
  },
  {
   "cell_type": "code",
   "execution_count": null,
   "metadata": {},
   "outputs": [],
   "source": [
    "# DFS implementation using recursion\n",
    "def run_dfs(graph, start, visited=None):\n",
    "    if visited is None:\n",
    "        visited = set()\n",
    "    visited.add(start)\n",
    "    \n",
    "    for neighbor in graph[start]:\n",
    "        if neighbor not in visited:\n",
    "            run_dfs(graph, neighbor, visited)\n",
    "    return visited"
   ]
  },
  {
   "cell_type": "code",
   "execution_count": null,
   "metadata": {},
   "outputs": [],
   "source": [
    "# Sample graph for comparison\n",
    "graph_example = {\n",
    "    'A': ['B', 'C'],\n",
    "    'B': ['D', 'E'],\n",
    "    'C': ['F'],\n",
    "    'D': [],\n",
    "    'E': ['F'],\n",
    "    'F': []\n",
    "}\n",
    "\n",
    "bfs_output = run_bfs(graph_example, 'A')\n",
    "dfs_output = list(run_dfs(graph_example, 'A'))\n",
    "\n",
    "print(\"BFS Traversal Order:\", bfs_output)\n",
    "print(\"DFS Traversal Order:\", dfs_output)"
   ]
  },
  {
   "cell_type": "code",
   "execution_count": null,
   "metadata": {},
   "outputs": [],
   "source": [
    "# Visualization of BFS vs DFS results using bar chart\n",
    "import matplotlib.pyplot as plt\n",
    "\n",
    "labels = list(graph_example.keys())\n",
    "\n",
    "plt.figure(figsize=(7,4))\n",
    "plt.bar(range(len(bfs_output)), bfs_output, color='lightgreen', label='BFS Order')\n",
    "plt.bar(range(len(dfs_output)), dfs_output, color='lightblue', alpha=0.7, label='DFS Order')\n",
    "plt.title(\"Comparison of BFS and DFS Traversal\", fontsize=14)\n",
    "plt.xlabel(\"Step Index\")\n",
    "plt.ylabel(\"Node\")\n",
    "plt.legend()\n",
    "plt.show()"
   ]
  }
 ],
 "metadata": {
  "kernelspec": {
   "display_name": "Python 3",
   "language": "python",
   "name": "python3"
  },
  "language_info": {
   "name": "python",
   "version": "3.11"
  }
 },
 "nbformat": 4,
 "nbformat_minor": 2
}
