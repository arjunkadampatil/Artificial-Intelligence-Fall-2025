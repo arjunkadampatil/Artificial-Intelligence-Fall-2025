{
 "cells": [
  {
   "cell_type": "markdown",
   "metadata": {},
   "source": [
    "# Depth-First Search (DFS)\n",
    "\n",
    "This notebook demonstrates DFS traversal in a graph using recursion.\n",
    "It also shows the discovery order of nodes."
   ]
  },
  {
   "cell_type": "code",
   "execution_count": null,
   "metadata": {},
   "outputs": [],
   "source": [
    "import networkx as nx\n",
    "import matplotlib.pyplot as plt\n",
    "\n",
    "# Define the graph using adjacency list\n",
    "graph = {\n",
    "    'A': ['B', 'C'],\n",
    "    'B': ['D', 'E'],\n",
    "    'C': ['F'],\n",
    "    'D': [],\n",
    "    'E': ['F'],\n",
    "    'F': []\n",
    "}\n",
    "\n",
    "visited = set()\n",
    "dfs_order = []\n",
    "\n",
    "def dfs(node):\n",
    "    \"\"\"\n",
    "    Recursive DFS function to visit all reachable nodes.\n",
    "    \"\"\"\n",
    "    if node not in visited:\n",
    "        visited.add(node)\n",
    "        dfs_order.append(node)\n",
    "        for neighbor in graph[node]:\n",
    "            dfs(neighbor)\n",
    "\n",
    "# Run DFS\n",
    "dfs('A')\n",
    "print(\"DFS Traversal Order:\", dfs_order)"
   ]
  },
  {
   "cell_type": "code",
   "execution_count": null,
   "metadata": {},
   "outputs": [],
   "source": [
    "# Visualization of DFS traversal\n",
    "G = nx.DiGraph()\n",
    "for node in graph:\n",
    "    for neighbor in graph[node]:\n",
    "        G.add_edge(node, neighbor)\n",
    "\n",
    "pos = nx.spring_layout(G)\n",
    "plt.figure(figsize=(7,5))\n",
    "nx.draw(G, pos, with_labels=True, node_color='lightgreen', node_size=2000, font_size=12, arrows=True)\n",
    "nx.draw_networkx_edges(G, pos, edge_color='black')\n",
    "plt.title(\"Graph Representation for DFS\")\n",
    "plt.show()\n",
    "\n",
    "print(\"Traversal sequence:\", dfs_order)"
   ]
  }
 ],
 "metadata": {
  "kernelspec": {
   "display_name": "Python 3",
   "language": "python",
   "name": "python3"
  },
  "language_info": {
   "name": "python"
  }
 },
 "nbformat": 4,
 "nbformat_minor": 5
}
