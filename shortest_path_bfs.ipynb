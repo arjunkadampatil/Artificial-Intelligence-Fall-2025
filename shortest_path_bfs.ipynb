{
 "cells": [
  {
   "cell_type": "markdown",
   "metadata": {},
   "source": [
    "# Shortest Path using BFS\n",
    "\n",
    "This notebook shows how BFS can be used to find the shortest path between two nodes in an unweighted graph."
   ]
  },
  {
   "cell_type": "code",
   "execution_count": null,
   "metadata": {},
   "outputs": [],
   "source": [
    "# Function to compute shortest path using BFS\n",
    "from collections import deque\n",
    "\n",
    "def shortest_path(graph, start, target):\n",
    "    visited = set()\n",
    "    queue = deque([(start, [start])])  # store (current_node, path_so_far)\n",
    "\n",
    "    while queue:\n",
    "        node, path = queue.popleft()\n",
    "        if node == target:\n",
    "            return path\n",
    "        if node not in visited:\n",
    "            visited.add(node)\n",
    "            for neighbor in graph[node]:\n",
    "                if neighbor not in visited:\n",
    "                    queue.append((neighbor, path + [neighbor]))\n",
    "    return None"
   ]
  },
  {
   "cell_type": "code",
   "execution_count": null,
   "metadata": {},
   "outputs": [],
   "source": [
    "# Example graph for testing\n",
    "graph_links = {\n",
    "    'A': ['B', 'C'],\n",
    "    'B': ['D', 'E'],\n",
    "    'C': ['F'],\n",
    "    'D': [],\n",
    "    'E': ['F'],\n",
    "    'F': []\n",
    "}\n",
    "\n",
    "start_node = 'A'\n",
    "end_node = 'F'\n",
    "path_result = shortest_path(graph_links, start_node, end_node)\n",
    "\n",
    "print(f\"Shortest path from {start_node} to {end_node}: {path_result}\")"
   ]
  },
  {
   "cell_type": "code",
   "execution_count": null,
   "metadata": {},
   "outputs": [],
   "source": [
    "# Visualization of shortest path\n",
    "import networkx as nx\n",
    "import matplotlib.pyplot as plt\n",
    "\n",
    "def visualize_path(graph, path):\n",
    "    G = nx.DiGraph()\n",
    "    for node, neighbors in graph.items():\n",
    "        for n in neighbors:\n",
    "            G.add_edge(node, n)\n",
    "\n",
    "    colors = []\n",
    "    for node in G.nodes():\n",
    "        if path and node in path:\n",
    "            colors.append('lightcoral')\n",
    "        else:\n",
    "            colors.append('lightgray')\n",
    "\n",
    "    plt.figure(figsize=(6,4))\n",
    "    pos = nx.spring_layout(G)\n",
    "    nx.draw(G, pos, with_labels=True, node_size=850, node_color=colors, font_size=12, font_color='black', edge_color='black')\n",
    "    plt.title(\"Shortest Path Visualization\", fontsize=14)\n",
    "    plt.show()\n",
    "\n",
    "visualize_path(graph_links, path_result)"
   ]
  }
 ],
 "metadata": {
  "kernelspec": {
   "display_name": "Python 3",
   "language": "python",
   "name": "python3"
  },
  "language_info": {
   "name": "python",
   "version": "3.11"
  }
 },
 "nbformat": 4,
 "nbformat_minor": 2
}
