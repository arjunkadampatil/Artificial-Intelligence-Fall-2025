{
 "cells": [
  {
   "cell_type": "markdown",
   "metadata": {},
   "source": [
    "# Breadth-First Search (BFS)\n",
    "\n",
    "This notebook demonstrates BFS traversal in a graph using adjacency list.\n",
    "It also visualizes the search process step by step."
   ]
  },
  {
   "cell_type": "code",
   "execution_count": null,
   "metadata": {},
   "outputs": [],
   "source": [
    "import networkx as nx\n",
    "import matplotlib.pyplot as plt\n",
    "from collections import deque\n",
    "\n",
    "# Define the graph using adjacency list\n",
    "graph = {\n",
    "    'A': ['B', 'C'],\n",
    "    'B': ['D', 'E'],\n",
    "    'C': ['F'],\n",
    "    'D': [],\n",
    "    'E': ['F'],\n",
    "    'F': []\n",
    "}\n",
    "\n",
    "def bfs_traversal(adj_list, start):\n",
    "    \"\"\"\n",
    "    Perform BFS traversal from a given start node.\n",
    "    \"\"\"\n",
    "    visited = set()\n",
    "    queue = deque([start])\n",
    "    order = []\n",
    "\n",
    "    while queue:\n",
    "        node = queue.popleft()\n",
    "        if node not in visited:\n",
    "            visited.add(node)\n",
    "            order.append(node)\n",
    "            for neighbor in adj_list[node]:\n",
    "                if neighbor not in visited:\n",
    "                    queue.append(neighbor)\n",
    "    return order\n",
    "\n",
    "# Run BFS\n",
    "bfs_order = bfs_traversal(graph, 'A')\n",
    "print(\"BFS Traversal Order:\", bfs_order)"
   ]
  },
  {
   "cell_type": "code",
   "execution_count": null,
   "metadata": {},
   "outputs": [],
   "source": [
    "# Visualization of BFS traversal\n",
    "G = nx.DiGraph()\n",
    "for node in graph:\n",
    "    for neighbor in graph[node]:\n",
    "        G.add_edge(node, neighbor)\n",
    "\n",
    "pos = nx.spring_layout(G)\n",
    "plt.figure(figsize=(7,5))\n",
    "nx.draw(G, pos, with_labels=True, node_color='skyblue', node_size=2000, font_size=12, arrows=True)\n",
    "nx.draw_networkx_edges(G, pos, edge_color='gray')\n",
    "plt.title(\"Graph Representation for BFS\")\n",
    "plt.show()\n",
    "\n",
    "print(\"Traversal sequence:\", bfs_order)"
   ]
  }
 ],
 "metadata": {
  "kernelspec": {
   "display_name": "Python 3",
   "language": "python",
   "name": "python3"
  },
  "language_info": {
   "name": "python"
  }
 },
 "nbformat": 4,
 "nbformat_minor": 5
}
