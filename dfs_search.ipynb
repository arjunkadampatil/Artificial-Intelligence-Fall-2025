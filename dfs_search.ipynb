{
 "cells": [
  {
   "cell_type": "markdown",
   "metadata": {},
   "source": [
    "# Depth First Search (DFS) Traversal\n",
    "\n",
    "This notebook demonstrates DFS traversal in a graph using adjacency list representation.\n",
    "We will use recursion to explore all nodes step by step."
   ]
  },
  {
   "cell_type": "code",
   "execution_count": null,
   "metadata": {},
   "outputs": [],
   "source": [
    "# DFS implementation in Python\n",
    "# Recursive approach for simplicity\n",
    "\n",
    "def dfs_traverse(graph, start, visited=None):\n",
    "    if visited is None:\n",
    "        visited = set()\n",
    "    visited.add(start)\n",
    "    \n",
    "    print(start, end=' ')\n",
    "    \n",
    "    for neighbor in graph[start]:\n",
    "        if neighbor not in visited:\n",
    "            dfs_traverse(graph, neighbor, visited)\n",
    "    return visited"
   ]
  },
  {
   "cell_type": "code",
   "execution_count": null,
   "metadata": {},
   "outputs": [],
   "source": [
    "# Example graph using adjacency list\n",
    "graph_info = {\n",
    "    'A': ['B', 'C'],\n",
    "    'B': ['D', 'E'],\n",
    "    'C': ['F'],\n",
    "    'D': [],\n",
    "    'E': ['F'],\n",
    "    'F': []\n",
    "}\n",
    "\n",
    "print(\"DFS Traversal Order:\")\n",
    "dfs_traverse(graph_info, 'A')"
   ]
  },
  {
   "cell_type": "code",
   "execution_count": null,
   "metadata": {},
   "outputs": [],
   "source": [
    "# Visualization of graph structure\n",
    "import networkx as nx\n",
    "import matplotlib.pyplot as plt\n",
    "\n",
    "def plot_graph(graph):\n",
    "    G = nx.DiGraph()\n",
    "    for node, neighbors in graph.items():\n",
    "        for n in neighbors:\n",
    "            G.add_edge(node, n)\n",
    "\n",
    "    plt.figure(figsize=(6,4))\n",
    "    nx.draw(G, with_labels=True, node_size=850, node_color='skyblue', font_size=12, font_color='black', edge_color='darkblue')\n",
    "    plt.title(\"Graph Visualization\", fontsize=14)\n",
    "    plt.show()\n",
    "\n",
    "plot_graph(graph_info)"
   ]
  }
 ],
 "metadata": {
  "kernelspec": {
   "display_name": "Python 3",
   "language": "python",
   "name": "python3"
  },
  "language_info": {
   "name": "python",
   "version": "3.11"
  }
 },
 "nbformat": 4,
 "nbformat_minor": 2
}
