{
 "cells": [
  {
   "cell_type": "markdown",
   "metadata": {},
   "source": [
    "# Shortest Path using BFS\n",
    "\n",
    "This notebook reads a graph from a text file (edge list format) and finds the shortest path between two nodes using **Breadth-First Search (BFS)**.\n",
    "\n",
    "📌 Input File: `graph.txt` (each line = `u v`)\n",
    "\n",
    "Example content of `graph.txt`:\n",
    "```\n",
    "A B\n",
    "A C\n",
    "B D\n",
    "B E\n",
    "C F\n",
    "E F\n",
    "```\n",
    "\n",
    "This represents the same graph we used earlier."
   ]
  },
  {
   "cell_type": "code",
   "execution_count": null,
   "metadata": {},
   "outputs": [],
   "source": [
    "from collections import deque, defaultdict\n",
    "import networkx as nx\n",
    "import matplotlib.pyplot as plt\n",
    "\n",
    "def read_graph(filename):\n",
    "    graph = defaultdict(list)\n",
    "    with open(filename, 'r') as f:\n",
    "        for line in f:\n",
    "            u, v = line.strip().split()\n",
    "            graph[u].append(v)\n",
    "            graph[v].append(u)  # undirected graph\n",
    "    return graph\n",
    "\n",
    "def bfs_shortest_path(graph, start, goal):\n",
    "    visited = set()\n",
    "    queue = deque([(start, [start])])\n",
    "    while queue:\n",
    "        (vertex, path) = queue.popleft()\n",
    "        if vertex == goal:\n",
    "            return path\n",
    "        if vertex not in visited:\n",
    "            visited.add(vertex)\n",
    "            for neighbour in graph[vertex]:\n",
    "                queue.append((neighbour, path + [neighbour]))\n",
    "    return None\n",
    "\n",
    "# --- Load Graph ---\n",
    "graph = read_graph(\"graph.txt\")\n",
    "source, destination = \"A\", \"F\"\n",
    "shortest_path = bfs_shortest_path(graph, source, destination)\n",
    "\n",
    "print(\"Shortest Path using BFS from\", source, \"to\", destination, \":\", shortest_path)"
   ]
  },
  {
   "cell_type": "code",
   "execution_count": null,
   "metadata": {},
   "outputs": [],
   "source": [
    "# Visualization of the graph and shortest path\n",
    "G = nx.Graph()\n",
    "for u in graph:\n",
    "    for v in graph[u]:\n",
    "        G.add_edge(u, v)\n",
    "\n",
    "pos = nx.spring_layout(G, seed=42)\n",
    "\n",
    "# Draw full graph\n",
    "nx.draw_networkx_nodes(G, pos, node_color='lightblue', node_size=1000)\n",
    "nx.draw_networkx_edges(G, pos, edge_color='gray')\n",
    "nx.draw_networkx_labels(G, pos, font_size=12, font_weight='bold')\n",
    "\n",
    "# Highlight shortest path if found\n",
    "if shortest_path:\n",
    "    path_edges = list(zip(shortest_path, shortest_path[1:]))\n",
    "    nx.draw_networkx_edges(G, pos, edgelist=path_edges, edge_color='red', width=2)\n",
    "    nx.draw_networkx_nodes(G, pos, nodelist=shortest_path, node_color='yellow', node_size=1000)\n",
    "\n",
    "plt.title(f\"Shortest Path from {source} to {destination}\")\n",
    "plt.axis('off')\n",
    "plt.show()"
   ]
  }
 ],
 "metadata": {
  "kernelspec": {
   "display_name": "Python 3",
   "language": "python",
   "name": "python3"
  },
  "language_info": {
   "name": "python"
  }
 },
 "nbformat": 4,
 "nbformat_minor": 5
}
