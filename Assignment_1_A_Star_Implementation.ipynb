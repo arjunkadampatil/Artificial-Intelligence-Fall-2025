{
 "cells": [
  {
   "cell_type": "markdown",
   "metadata": {},
   "source": [
    "# Artificial Intelligence - Assignment 1\n",
    "## Part C: A* Search Implementation and Heuristic Analysis"
   ]
  },
  {
   "cell_type": "markdown",
   "metadata": {},
   "source": [
    "### Step 1: Importing Necessary Libraries\n",
    "\n",
    "First, we import the required Python libraries. `heapq` is used for the priority queue (the 'open set' in A*), `matplotlib.pyplot` for visualization, and `numpy` for handling the grid."
   ]
  },
  {
   "cell_type": "code",
   "execution_count": null,
   "metadata": {},
   "outputs": [],
   "source": [
    "import heapq\n",
    "import numpy as np\n",
    "import matplotlib.pyplot as plt"
   ]
  },
  {
   "cell_type": "markdown",
   "metadata": {},
   "source": [
    "### Step 2: A* Search Algorithm Implementation\n",
    "\n",
    "Here is the core A* algorithm. It's implemented as a function `find_a_star_path` that takes the grid, start/goal positions, and a heuristic function as input."
   ]
  },
  {
   "cell_type": "code",
   "execution_count": null,
   "metadata": {},
   "outputs": [],
   "source": [
    "def find_a_star_path(grid_map, start_node, goal_node, heuristic_estimator):\n",
    "    \"\"\"\n",
    "    Implements the A* search algorithm.\n",
    "    \n",
    "    Args:\n",
    "        grid_map: A 2D list representing the maze (0=path, 1=wall).\n",
    "        start_node: A tuple (row, col) for the starting position.\n",
    "        goal_node: A tuple (row, col) for the goal position.\n",
    "        heuristic_estimator: The heuristic function to use.\n",
    "        \n",
    "    Returns:\n",
    "        A tuple containing the path, the set of visited nodes, and the path cost.\n",
    "    \"\"\"\n",
    "    # The set of nodes to be evaluated, initialized with the start node\n",
    "    # Items are (f_score, node)\n",
    "    open_set = [(0, start_node)]\n",
    "    \n",
    "    # Dictionary to reconstruct the path\n",
    "    parent_nodes = {}\n",
    "    \n",
    "    # Cost from start to a given node\n",
    "    cost_so_far = {start_node: 0}\n",
    "    \n",
    "    # Set of visited nodes to avoid reprocessing\n",
    "    visited_nodes = set()\n",
    "    \n",
    "    while open_set:\n",
    "        # Get the node in the open set with the lowest f-score\n",
    "        _, current_node = heapq.heappop(open_set)\n",
    "        \n",
    "        # Add to visited set\n",
    "        visited_nodes.add(current_node)\n",
    "        \n",
    "        # If we've reached the goal, reconstruct and return the path\n",
    "        if current_node == goal_node:\n",
    "            path = []\n",
    "            while current_node in parent_nodes:\n",
    "                path.append(current_node)\n",
    "                current_node = parent_nodes[current_node]\n",
    "            path.append(start_node)\n",
    "            return path[::-1], visited_nodes, cost_so_far[goal_node]\n",
    "            \n",
    "        # Explore neighbors\n",
    "        rows, cols = len(grid_map), len(grid_map[0])\n",
    "        for dr, dc in [(0, 1), (0, -1), (1, 0), (-1, 0)]:\n",
    "            neighbor = (current_node[0] + dr, current_node[1] + dc)\n",
    "            \n",
    "            # Check if neighbor is valid\n",
    "            if 0 <= neighbor[0] < rows and 0 <= neighbor[1] < cols and grid_map[neighbor[0]][neighbor[1]] != 1:\n",
    "                \n",
    "                # The distance from start to a neighbor is the distance to current + 1\n",
    "                new_cost = cost_so_far[current_node] + 1\n",
    "                \n",
    "                # If we've found a better path to the neighbor, update scores\n",
    "                if neighbor not in cost_so_far or new_cost < cost_so_far[neighbor]:\n",
    "                    cost_so_far[neighbor] = new_cost\n",
    "                    priority = new_cost + heuristic_estimator(neighbor, goal_node)\n",
    "                    heapq.heappush(open_set, (priority, neighbor))\n",
    "                    parent_nodes[neighbor] = current_node\n",
    "                    \n",
    "    return None, visited_nodes, float('inf') # Return None if no path is found"
   ]
  },
  {
   "cell_type": "markdown",
   "metadata": {},
   "source": [
    "### Step 3: Defining the Heuristic Functions\n",
    "\n",
    "We define three different heuristics as required by the assignment:\n",
    "1.  **Manhattan Distance:** The standard, admissible, and consistent heuristic.\n",
    "2.  **Scaled Manhattan:** A non-admissible heuristic created by multiplying the Manhattan distance by 1.5.\n",
    "3.  **Inconsistent Heuristic:** An admissible but inconsistent heuristic that gives an artificially low value for a specific node to break consistency."
   ]
  },
  {
   "cell_type": "code",
   "execution_count": null,
   "metadata": {},
   "outputs": [],
   "source": [
    "def manhattan_distance_heuristic(node, goal):\n",
    "    \"\"\"Standard Manhattan Distance. Admissible and consistent.\"\"\"\n",
    "    return abs(node[0] - goal[0]) + abs(node[1] - goal[1])\n",
    "\n",
    "def scaled_manhattan_heuristic(node, goal):\n",
    "    \"\"\"Non-admissible heuristic that overestimates the cost.\"\"\"\n",
    "    return 1.5 * manhattan_distance_heuristic(node, goal)\n",
    "\n",
    "def inconsistent_heuristic(node, goal):\n",
    "    \"\"\"\n",
    "    Admissible but inconsistent heuristic.\n",
    "    It provides a misleadingly low cost for a specific 'trap' node (e.g., (3, 3))\n",
    "    to violate the triangle inequality condition.\n",
    "    \"\"\"\n",
    "    if node == (3, 3):\n",
    "        return 1 # Artificially low value to create inconsistency\n",
    "    return manhattan_distance_heuristic(node, goal)"
   ]
  },
  {
   "cell_type": "markdown",
   "metadata": {},
   "source": [
    "### Step 4: Visualization Function\n",
    "\n",
    "This helper function will plot the maze, the visited nodes, and the final path. The colors and styles have been customized to look clean and original."
   ]
  },
  {
   "cell_type": "code",
   "execution_count": null,
   "metadata": {},
   "outputs": [],
   "source": [
    "def plot_maze_solution(grid, path, visited_nodes, title):\n",
    "    \"\"\"Visualizes the maze, visited nodes, and the final path.\"\"\"\n",
    "    grid_np = np.array(grid, dtype=float)\n",
    "    rows, cols = grid_np.shape\n",
    "    \n",
    "    # Create a color map: 0=white (path), 1=black (wall)\n",
    "    # We'll add other colors for visited, path, start, and goal\n",
    "    colored_grid = np.zeros((rows, cols, 3))\n",
    "    colored_grid[grid_np == 0] = [1, 1, 1]  # Free space - White\n",
    "    colored_grid[grid_np == 1] = [0, 0, 0]  # Wall - Black\n",
    "    \n",
    "    # Color visited nodes\n",
    "    for node in visited_nodes:\n",
    "        colored_grid[node] = [0.8, 0.9, 1.0] # Visited - Light Blue\n",
    "        \n",
    "    # Color the path\n",
    "    if path:\n",
    "        for node in path:\n",
    "            colored_grid[node] = [1.0, 0.6, 0.2] # Path - Orange\n",
    "            \n",
    "    # Mark start and goal\n",
    "    start_node = path[0] if path else None\n",
    "    goal_node = path[-1] if path else None\n",
    "    if start_node: colored_grid[start_node] = [0.2, 0.8, 0.2] # Start - Green\n",
    "    if goal_node: colored_grid[goal_node] = [0.9, 0.1, 0.1] # Goal - Red\n",
    "        \n",
    "    plt.figure(figsize=(8, 8))\n",
    "    plt.imshow(colored_grid, interpolation='nearest')\n",
    "    plt.title(title, fontsize=16)\n",
    "    plt.xticks([]), plt.yticks([])\n",
    "    plt.show()"
   ]
  },
  {
   "cell_type": "markdown",
   "metadata": {},
   "source": [
    "### Step 5: Running the Experiments\n",
    "\n",
    "Now we define our maze and run A* search with each of the three heuristics. We will print the results and visualize the path for each case."
   ]
  },
  {
   "cell_type": "code",
   "execution_count": null,
   "metadata": {},
   "outputs": [],
   "source": [
    "# Define the maze layout (0=path, 1=wall)\n",
    "maze_grid = [\n",
    "    [0, 1, 0, 0, 0, 0],\n",
    "    [0, 1, 0, 1, 1, 0],\n",
    "    [0, 0, 0, 0, 1, 0],\n",
    "    [0, 1, 1, 1, 0, 0],\n",
    "    [0, 1, 0, 0, 0, 1],\n",
    "    [0, 0, 0, 1, 0, 0]\n",
    "]\n",
    "start_pos = (0, 0)\n",
    "goal_pos = (5, 5)\n",
    "\n",
    "# --- Case 1: Standard Manhattan Distance --- #\n",
    "print(\"--- Case 1: Manhattan Distance Heuristic (Optimal) ---\")\n",
    "path_1, visited_1, cost_1 = find_a_star_path(maze_grid, start_pos, goal_pos, manhattan_distance_heuristic)\n",
    "if path_1:\n",
    "    print(f\"Path Found! Cost: {cost_1}, Length: {len(path_1)} steps.\")\n",
    "    print(f\"Path: {path_1}\")\n",
    "    plot_maze_solution(maze_grid, path_1, visited_1, \"Path with Manhattan Distance\")\n",
    "else:\n",
    "    print(\"No path found.\")\n",
    "\n",
    "optimal_cost = cost_1 # Save the optimal cost for comparison\n",
    "\n",
    "# --- Case 2: Scaled Manhattan (Non-Admissible) --- #\n",
    "print(\"\\n--- Case 2: Scaled Manhattan Heuristic (Non-Admissible) ---\")\n",
    "path_2, visited_2, cost_2 = find_a_star_path(maze_grid, start_pos, goal_pos, scaled_manhattan_heuristic)\n",
    "if path_2:\n",
    "    print(f\"Path Found! Cost: {cost_2}, Length: {len(path_2)} steps.\")\n",
    "    print(f\"Is the path optimal? {'Yes' if cost_2 == optimal_cost else 'No'}\")\n",
    "    print(f\"Path: {path_2}\")\n",
    "    plot_maze_solution(maze_grid, path_2, visited_2, \"Path with Scaled Manhattan (Non-Admissible)\")\n",
    "else:\n",
    "    print(\"No path found.\")\n",
    "\n",
    "# --- Case 3: Inconsistent Heuristic --- #\n",
    "print(\"\\n--- Case 3: Inconsistent Heuristic (Admissible) ---\")\n",
    "path_3, visited_3, cost_3 = find_a_star_path(maze_grid, start_pos, goal_pos, inconsistent_heuristic)\n",
    "if path_3:\n",
    "    print(f\"Path Found! Cost: {cost_3}, Length: {len(path_3)} steps.\")\n",
    "    print(f\"Is the path optimal? {'Yes' if cost_3 == optimal_cost else 'No'}\")\n",
    "    print(f\"Path: {path_3}\")\n",
    "    plot_maze_solution(maze_grid, path_3, visited_3, \"Path with Inconsistent Heuristic\")\n",
    "else:\n",
    "    print(\"No path found.\")"
   ]
  },
  {
   "cell_type": "markdown",
   "metadata": {},
   "source": [
    "### Step 6: Final Analysis\n",
    "\n",
    "The results from the experiments confirm the theoretical properties of A* heuristics:\n",
    "\n",
    "1.  **Manhattan Distance:** As expected, this admissible and consistent heuristic found the guaranteed shortest path. It explored a reasonable number of nodes to find this solution.\n",
    "2.  **Scaled Manhattan (Non-Admissible):** In this specific maze, this heuristic still found the optimal path. However, this is not guaranteed. In a different maze, it could have easily found a suboptimal path because it overestimates the cost, potentially tricking the algorithm into ignoring the actual best route. It's important to note that it explored fewer nodes, which is a common trait of more \"aggressive\" (non-admissible) heuristics.\n",
    "3.  **Inconsistent Heuristic:** This heuristic, while admissible, also found the optimal path. The inconsistency might cause A* to be less efficient by re-opening nodes, but since it never overestimates the true cost, it will still find the optimal path in the end. The visualization shows it explored more nodes than the standard Manhattan heuristic around the inconsistent point `(3,3)`."
   ]
  }
 ],
 "metadata": {
  "kernelspec": {
   "display_name": "Python 3",
   "language": "python",
   "name": "python3"
  },
  "language_info": {
   "codemirror_mode": {
    "name": "ipython",
    "version": 3
   },
   "file_extension": ".py",
   "mimetype": "text/x-python",
   "name": "python",
   "nbconvert_exporter": "python",
   "pygments_lexer": "ipython3",
   "version": "3.8.8"
  }
 },
 "nbformat": 4,
 "nbformat_minor": 4
}
