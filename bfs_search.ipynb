{
 "cells": [
  {
   "cell_type": "markdown",
   "metadata": {},
   "source": [
    "# Breadth First Search (BFS) Traversal\n",
    "\n",
    "This notebook demonstrates BFS traversal in a graph using adjacency list representation.\n",
    "The process is explained step by step for better understanding."
   ]
  },
  {
   "cell_type": "code",
   "execution_count": null,
   "metadata": {},
   "outputs": [],
   "source": [
    "# BFS implementation in Python\n",
    "# Simple and clear version for learning\n",
    "\n",
    "from collections import deque\n",
    "\n",
    "def bfs_traverse(graph, start_node):\n",
    "    visited_nodes = set()\n",
    "    traversal_order = []\n",
    "    queue = deque([start_node])\n",
    "\n",
    "    while queue:\n",
    "        current = queue.popleft()\n",
    "        if current not in visited_nodes:\n",
    "            visited_nodes.add(current)\n",
    "            traversal_order.append(current)\n",
    "            for neighbor in graph[current]:\n",
    "                if neighbor not in visited_nodes:\n",
    "                    queue.append(neighbor)\n",
    "    return traversal_order"
   ]
  },
  {
   "cell_type": "code",
   "execution_count": null,
   "metadata": {},
   "outputs": [],
   "source": [
    "# Example graph using adjacency list\n",
    "graph_data = {\n",
    "    'A': ['B', 'C'],\n",
    "    'B': ['D', 'E'],\n",
    "    'C': ['F'],\n",
    "    'D': [],\n",
    "    'E': ['F'],\n",
    "    'F': []\n",
    "}\n",
    "\n",
    "result = bfs_traverse(graph_data, 'A')\n",
    "print(\"BFS Traversal Order:\", result)"
   ]
  },
  {
   "cell_type": "code",
   "execution_count": null,
   "metadata": {},
   "outputs": [],
   "source": [
    "# Visualization using networkx and matplotlib\n",
    "import networkx as nx\n",
    "import matplotlib.pyplot as plt\n",
    "\n",
    "def show_graph(graph):\n",
    "    G = nx.DiGraph()\n",
    "    for node, neighbors in graph.items():\n",
    "        for n in neighbors:\n",
    "            G.add_edge(node, n)\n",
    "\n",
    "    plt.figure(figsize=(6,4))\n",
    "    nx.draw(G, with_labels=True, node_size=800, node_color='lightgreen', font_size=12, font_color='black', edge_color='gray')\n",
    "    plt.title(\"Graph Representation\", fontsize=14)\n",
    "    plt.show()\n",
    "\n",
    "show_graph(graph_data)"
   ]
  }
 ],
 "metadata": {
  "kernelspec": {
   "display_name": "Python 3",
   "language": "python",
   "name": "python3"
  },
  "language_info": {
   "name": "python",
   "version": "3.11"
  }
 },
 "nbformat": 4,
 "nbformat_minor": 2
}
